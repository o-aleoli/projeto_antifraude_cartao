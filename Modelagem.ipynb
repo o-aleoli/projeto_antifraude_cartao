{
 "cells": [
  {
   "cell_type": "markdown",
   "metadata": {},
   "source": [
    "Como o problema de negócio consiste em classificar um cliente numa categoria binária a partir de variáveis quantitativas, então se implementará um modelo de regressão logística."
   ]
  },
  {
   "cell_type": "code",
   "execution_count": 1,
   "metadata": {},
   "outputs": [
    {
     "name": "stderr",
     "output_type": "stream",
     "text": [
      "22/04/04 17:10:30 WARN Utils: Your hostname, freetoaster resolves to a loopback address: 127.0.1.1; using 192.168.1.98 instead (on interface wlo1)\n",
      "22/04/04 17:10:30 WARN Utils: Set SPARK_LOCAL_IP if you need to bind to another address\n",
      "WARNING: An illegal reflective access operation has occurred\n",
      "WARNING: Illegal reflective access by org.apache.spark.unsafe.Platform (file:/etc/spark-3.2.0-bin-hadoop3.2/jars/spark-unsafe_2.12-3.2.0.jar) to constructor java.nio.DirectByteBuffer(long,int)\n",
      "WARNING: Please consider reporting this to the maintainers of org.apache.spark.unsafe.Platform\n",
      "WARNING: Use --illegal-access=warn to enable warnings of further illegal reflective access operations\n",
      "WARNING: All illegal access operations will be denied in a future release\n",
      "Using Spark's default log4j profile: org/apache/spark/log4j-defaults.properties\n",
      "Setting default log level to \"WARN\".\n",
      "To adjust logging level use sc.setLogLevel(newLevel). For SparkR, use setLogLevel(newLevel).\n",
      "22/04/04 17:10:35 WARN NativeCodeLoader: Unable to load native-hadoop library for your platform... using builtin-java classes where applicable\n",
      "22/04/04 17:10:40 WARN Utils: Service 'SparkUI' could not bind on port 4040. Attempting port 4041.\n",
      "                                                                                \r"
     ]
    }
   ],
   "source": [
    "from pyspark.sql import SparkSession\n",
    "from pyspark.ml.feature import VectorAssembler\n",
    "\n",
    "training_features = ['V3', 'V4', 'V9', 'V10', 'V11', 'V12', 'V14', 'V16', 'V17']\n",
    "\n",
    "spark = SparkSession.builder.getOrCreate()\n",
    "\n",
    "db_cc_training = spark.read.parquet('spark-warehouse/db_cc_train')\n",
    "test = spark.read.parquet('spark-warehouse/db_cc_test')\n",
    "validate = spark.read.parquet('spark-warehouse/db_cc_validate')\n",
    "\n",
    "train = VectorAssembler(\n",
    "    inputCols = training_features,\n",
    "    outputCol = 'features'\n",
    ")\\\n",
    "    .transform(db_cc_training)\\\n",
    "    .drop('V3', 'V4', 'V9', 'V10', 'V11', 'V12', 'V14', 'V16', 'V17')\\\n",
    "    .withColumnRenamed('Class','label')\n",
    "\n",
    "test = VectorAssembler(\n",
    "    inputCols = training_features,\n",
    "    outputCol = 'features'\n",
    ")\\\n",
    "    .transform(test)\\\n",
    "    .drop('V3', 'V4', 'V9', 'V10', 'V11', 'V12', 'V14', 'V16', 'V17')\\\n",
    "    .withColumnRenamed('Class','label')\n",
    "\n",
    "validate = VectorAssembler(\n",
    "    inputCols = training_features,\n",
    "    outputCol = 'features'\n",
    ")\\\n",
    "    .transform(validate)\\\n",
    "    .drop('V3', 'V4', 'V9', 'V10', 'V11', 'V12', 'V14', 'V16', 'V17')\\\n",
    "    .withColumnRenamed('Class','label')"
   ]
  },
  {
   "cell_type": "markdown",
   "metadata": {},
   "source": [
    "Os parâmetros a seguir foram determinados como suficientes para uma execução rápida de treino com resultados satisfatórios.\n",
    "Tanto `REGPARAM = 0.0` quanto `ELASTICNETPARAM = 0.0` definem a métrica de erro L2 para a regularização e otimização, respctivamente."
   ]
  },
  {
   "cell_type": "code",
   "execution_count": 2,
   "metadata": {},
   "outputs": [],
   "source": [
    "from pyspark.ml.classification import LogisticRegression\n",
    "\n",
    "ITERATIONS = 1\n",
    "REGPARAM = 0.0\n",
    "ELASTICNETPARAM = 0.0\n",
    "\n",
    "logit_reg = LogisticRegression(\n",
    "    maxIter = ITERATIONS,\n",
    "    regParam = REGPARAM,\n",
    "    elasticNetParam = ELASTICNETPARAM,\n",
    "    family = 'binomial',\n",
    "    standardization = False\n",
    ")"
   ]
  },
  {
   "cell_type": "code",
   "execution_count": 3,
   "metadata": {},
   "outputs": [
    {
     "name": "stderr",
     "output_type": "stream",
     "text": [
      "                                                                                \r"
     ]
    }
   ],
   "source": [
    "logit_reg_model = logit_reg.fit(train)"
   ]
  },
  {
   "cell_type": "code",
   "execution_count": 4,
   "metadata": {},
   "outputs": [],
   "source": [
    "test_prediction = logit_reg_model.transform(test)"
   ]
  },
  {
   "cell_type": "code",
   "execution_count": 6,
   "metadata": {},
   "outputs": [],
   "source": [
    "# Implementado por Alex Ross em https://stackoverflow.com/questions/52847408/pyspark-extract-roc-curve\n",
    "\n",
    "from pyspark.mllib.evaluation import BinaryClassificationMetrics\n",
    "\n",
    "# Scala version implements .roc() and .pr()\n",
    "# Python: https://spark.apache.org/docs/latest/api/python/_modules/pyspark/mllib/common.html\n",
    "# Scala: https://spark.apache.org/docs/latest/api/java/org/apache/spark/mllib/evaluation/BinaryClassificationMetrics.html\n",
    "class CurveMetrics(BinaryClassificationMetrics):\n",
    "    def __init__(self, *args):\n",
    "        super(CurveMetrics, self).__init__(*args)\n",
    "\n",
    "    def _to_list(self, rdd):\n",
    "        points = []\n",
    "        # Note this collect could be inefficient for large datasets \n",
    "        # considering there may be one probability per datapoint (at most)\n",
    "        # The Scala version takes a numBins parameter, \n",
    "        # but it doesn't seem possible to pass this from Python to Java\n",
    "        for row in rdd.collect():\n",
    "            # Results are returned as type scala.Tuple2, \n",
    "            # which doesn't appear to have a py4j mapping\n",
    "            points += [(float(row._1()), float(row._2()))]\n",
    "        return points\n",
    "\n",
    "    def get_curve(self, method):\n",
    "        rdd = getattr(self._java_model, method)().toJavaRDD()\n",
    "        return self._to_list(rdd)"
   ]
  },
  {
   "cell_type": "code",
   "execution_count": 7,
   "metadata": {},
   "outputs": [
    {
     "name": "stderr",
     "output_type": "stream",
     "text": [
      "/home/olivieri/.local/lib/python3.9/site-packages/pyspark/sql/context.py:125: FutureWarning: Deprecated in 3.0.0. Use SparkSession.builder.getOrCreate() instead.\n",
      "  warnings.warn(\n",
      "                                                                                \r"
     ]
    },
    {
     "data": {
      "text/plain": [
       "Text(0, 0.5, 'Taxa de Verdadeiros Positivos')"
      ]
     },
     "execution_count": 7,
     "metadata": {},
     "output_type": "execute_result"
    },
    {
     "data": {
      "image/png": "[encoded data removed]",
      "text/plain": [
       "<Figure size 432x288 with 1 Axes>"
      ]
     },
     "metadata": {
      "needs_background": "light"
     },
     "output_type": "display_data"
    }
   ],
   "source": [
    "import matplotlib.pyplot as plt\n",
    "\n",
    "test_probs = test_prediction.select('label', 'probability')\\\n",
    "    .rdd\\\n",
    "    .map(lambda i: (float(i['probability'][1]), float(i['label'])))\n",
    "\n",
    "test_roc_points = CurveMetrics(test_probs).get_curve('roc')\n",
    "\n",
    "plt.figure()\n",
    "\n",
    "x = [x[0] for x in test_roc_points]\n",
    "y = [x[1] for x in test_roc_points]\n",
    "\n",
    "plt.plot(x, y)\n",
    "plt.title('Curva ROC do banco de dados de teste')\n",
    "plt.xlabel('Taxa de Falsos Positivos')\n",
    "plt.ylabel('Taxa de Verdadeiros Positivos')"
   ]
  },
  {
   "cell_type": "code",
   "execution_count": 8,
   "metadata": {},
   "outputs": [
    {
     "data": {
      "text/plain": [
       "0.9547159617165786"
      ]
     },
     "execution_count": 8,
     "metadata": {},
     "output_type": "execute_result"
    }
   ],
   "source": [
    "from pyspark.ml.evaluation import BinaryClassificationEvaluator\n",
    "\n",
    "BinaryClassificationEvaluator().evaluate(test_prediction)"
   ]
  },
  {
   "cell_type": "markdown",
   "metadata": {},
   "source": [
    "Tanto o AOC quanto a curva ROC para o banco de dados de teste sugerem que o modelo é plenamente capaz de classificar os clientes com base nas variáveis selecionadas."
   ]
  },
  {
   "cell_type": "code",
   "execution_count": 9,
   "metadata": {},
   "outputs": [
    {
     "name": "stderr",
     "output_type": "stream",
     "text": [
      "/home/olivieri/.local/lib/python3.9/site-packages/pyspark/sql/context.py:125: FutureWarning: Deprecated in 3.0.0. Use SparkSession.builder.getOrCreate() instead.\n",
      "  warnings.warn(\n",
      "                                                                                \r"
     ]
    },
    {
     "data": {
      "text/plain": [
       "Text(0, 0.5, 'Taxa de Verdadeiros Positivos')"
      ]
     },
     "execution_count": 9,
     "metadata": {},
     "output_type": "execute_result"
    },
    {
     "data": {
      "image/png": "[encoded data removed]",
      "text/plain": [
       "<Figure size 432x288 with 1 Axes>"
      ]
     },
     "metadata": {
      "needs_background": "light"
     },
     "output_type": "display_data"
    }
   ],
   "source": [
    "validate_prediction = logit_reg_model.transform(validate)\n",
    "\n",
    "validate_probs = validate_prediction.select('label', 'probability')\\\n",
    "    .rdd\\\n",
    "    .map(lambda i: (float(i['probability'][1]), float(i['label'])))\n",
    "\n",
    "validate_roc_points = CurveMetrics(validate_probs).get_curve('roc')\n",
    "\n",
    "plt.figure()\n",
    "\n",
    "x = [x[0] for x in validate_roc_points]\n",
    "y = [x[1] for x in validate_roc_points]\n",
    "\n",
    "plt.plot(x, y)\n",
    "plt.title('Curva ROC do banco de dados de validação')\n",
    "plt.xlabel('Taxa de Falsos Positivos')\n",
    "plt.ylabel('Taxa de Verdadeiros Positivos')"
   ]
  },
  {
   "cell_type": "code",
   "execution_count": 10,
   "metadata": {},
   "outputs": [
    {
     "data": {
      "text/plain": [
       "0.9738745184657747"
      ]
     },
     "execution_count": 10,
     "metadata": {},
     "output_type": "execute_result"
    }
   ],
   "source": [
    "BinaryClassificationEvaluator().evaluate(validate_prediction)"
   ]
  },
  {
   "cell_type": "code",
   "execution_count": 11,
   "metadata": {},
   "outputs": [],
   "source": [
    "logit_reg_model.write().overwrite().save('antifraud_logit_model')"
   ]
  },
  {
   "cell_type": "markdown",
   "metadata": {},
   "source": [
    "Novamente, o AOC e forma do ROC mostram o bom desempenho do modelo inclusive com o banco de dados de validação.\n",
    "O modelo de regressão logística parece ser robusto suficiente para ser implementado num sistema de gerenciamento de crédito de um banco ou operadora de cartão, no entando é importante ressaltar que ele se limita ao tratamento de dados que os autores do banco de dados escolheram.\n",
    "A reprodutibilidade e confiança sobre os resultados depende da aplicação dos mesmos passos de tratamento de dados em `V1` até `V28`.\n",
    "Esses features passaram por uma etapa de normalização, assumindo que sua distribuição seria normal e constante no tempo.\n",
    "Mudanças nessas estatísticas tornarão o modelo pouco confiável dado que os valores numéricos desses features não possuem significado físico: são coordenadas ao redor da média de uma distribuição normal.\n",
    "A frequência de ocorrência de fraudes pode depender do ciclo econômico na região dos clientes, da segmentação de mercado escolhida tanto pelo operador de cartão quanto do varejista e de outros fatores.\n",
    "Na resolução desse problema de negócio, é altamente recomendado novos análise estatística, pré-processamento e treino."
   ]
  }
 ],
 "metadata": {
  "interpreter": {
   "hash": "31f2aee4e71d21fbe5cf8b01ff0e069b9275f58929596ceb00d14d90e3e16cd6"
  },
  "kernelspec": {
   "display_name": "Python 3.9.7 64-bit",
   "language": "python",
   "name": "python3"
  },
  "language_info": {
   "codemirror_mode": {
    "name": "ipython",
    "version": 3
   },
   "file_extension": ".py",
   "mimetype": "text/x-python",
   "name": "python",
   "nbconvert_exporter": "python",
   "pygments_lexer": "ipython3",
   "version": "3.9.7"
  },
  "orig_nbformat": 4
 },
 "nbformat": 4,
 "nbformat_minor": 2
}
