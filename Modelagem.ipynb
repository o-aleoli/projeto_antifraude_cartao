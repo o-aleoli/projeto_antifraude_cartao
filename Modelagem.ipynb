{
 "cells": [
  {
   "cell_type": "markdown",
   "metadata": {},
   "source": [
    "Como o problema de negócio consiste em classificar um cliente numa categoria binária, então se implementará um modelo de regressão logística."
   ]
  },
  {
   "cell_type": "code",
   "execution_count": 78,
   "metadata": {},
   "outputs": [],
   "source": [
    "from pyspark.sql import SparkSession\n",
    "from pyspark.ml.feature import VectorAssembler, StringIndexer\n",
    "\n",
    "training_features = ['V3', 'V4', 'V9', 'V10', 'V11', 'V12', 'V14', 'V16', 'V17']\n",
    "\n",
    "spark = SparkSession.builder.getOrCreate()\n",
    "db_cc_training = spark.read.parquet('spark-warehouse/db_cc_training')\n",
    "\n",
    "train = VectorAssembler(\n",
    "    inputCols = training_features,\n",
    "    outputCol = 'features'\n",
    ")\\\n",
    "    .transform(db_cc_training)\\\n",
    "    .drop('V3', 'V4', 'V9', 'V10', 'V11', 'V12', 'V14', 'V16', 'V17')\\\n",
    "    .withColumnRenamed('Class','label')\n",
    "\n",
    "test, validate = spark.read.parquet('spark-warehouse/db_cc_norm').randomSplit([0.7, 0.3])\n",
    "\n",
    "test = VectorAssembler(\n",
    "    inputCols = training_features,\n",
    "    outputCol = 'features'\n",
    ")\\\n",
    "    .transform(test)\\\n",
    "    .drop('Time', 'V1', 'V2', 'V3', 'V4', 'V5', 'V6', 'V7', 'V8', 'V9', 'V10', 'V11', 'V12', 'V13', 'V14', 'V15', 'V16', 'V17', 'V18', 'V19', 'V20', 'V21', 'V22', 'V23', 'V24', 'V25', 'V26', 'V27', 'V28')\\\n",
    "    .withColumnRenamed('Class','label')\n",
    "\n",
    "validate = VectorAssembler(\n",
    "    inputCols = training_features,\n",
    "    outputCol = 'features'\n",
    ")\\\n",
    "    .transform(validate)\\\n",
    "    .drop('Time', 'V1', 'V2', 'V3', 'V4', 'V5', 'V6', 'V7', 'V8', 'V9', 'V10', 'V11', 'V12', 'V13', 'V14', 'V15', 'V16', 'V17', 'V18', 'V19', 'V20', 'V21', 'V22', 'V23', 'V24', 'V25', 'V26', 'V27', 'V28')\\\n",
    "    .withColumnRenamed('Class','label')"
   ]
  },
  {
   "cell_type": "code",
   "execution_count": 69,
   "metadata": {},
   "outputs": [],
   "source": [
    "from pyspark.ml.classification import LogisticRegression\n",
    "\n",
    "ITERATIONS = 100\n",
    "REGPARAM = 0.03\n",
    "ELASTICNETPARAM = 0.8\n",
    "\n",
    "logit_reg = LogisticRegression(\n",
    "    maxIter = ITERATIONS,\n",
    "    regParam = REGPARAM,\n",
    "    elasticNetParam = ELASTICNETPARAM\n",
    ")"
   ]
  },
  {
   "cell_type": "code",
   "execution_count": 70,
   "metadata": {},
   "outputs": [],
   "source": [
    "logit_reg_model = logit_reg.fit(train)"
   ]
  },
  {
   "cell_type": "code",
   "execution_count": 86,
   "metadata": {},
   "outputs": [],
   "source": [
    "test_prediction = logit_reg_model.transform(test)"
   ]
  },
  {
   "cell_type": "code",
   "execution_count": 87,
   "metadata": {},
   "outputs": [
    {
     "name": "stderr",
     "output_type": "stream",
     "text": [
      "                                                                                \r"
     ]
    },
    {
     "data": {
      "text/plain": [
       "0.9762263300038645"
      ]
     },
     "execution_count": 87,
     "metadata": {},
     "output_type": "execute_result"
    }
   ],
   "source": [
    "from pyspark.ml.evaluation import BinaryClassificationEvaluator\n",
    "\n",
    "BinaryClassificationEvaluator().evaluate(test_prediction)"
   ]
  },
  {
   "cell_type": "code",
   "execution_count": 84,
   "metadata": {},
   "outputs": [
    {
     "name": "stderr",
     "output_type": "stream",
     "text": [
      "                                                                                \r"
     ]
    },
    {
     "data": {
      "text/plain": [
       "0.9780937322180784"
      ]
     },
     "execution_count": 84,
     "metadata": {},
     "output_type": "execute_result"
    }
   ],
   "source": [
    "validate_prediction = logit_reg_model.transform(validate)\n",
    "\n",
    "BinaryClassificationEvaluator().evaluate(validate_prediction)"
   ]
  },
  {
   "cell_type": "code",
   "execution_count": 90,
   "metadata": {},
   "outputs": [
    {
     "name": "stderr",
     "output_type": "stream",
     "text": [
      "                                                                                \r"
     ]
    }
   ],
   "source": [
    "logit_reg_model.save('antifraud_logit_model')"
   ]
  }
 ],
 "metadata": {
  "interpreter": {
   "hash": "31f2aee4e71d21fbe5cf8b01ff0e069b9275f58929596ceb00d14d90e3e16cd6"
  },
  "kernelspec": {
   "display_name": "Python 3.9.7 64-bit",
   "language": "python",
   "name": "python3"
  },
  "language_info": {
   "codemirror_mode": {
    "name": "ipython",
    "version": 3
   },
   "file_extension": ".py",
   "mimetype": "text/x-python",
   "name": "python",
   "nbconvert_exporter": "python",
   "pygments_lexer": "ipython3",
   "version": "3.9.7"
  },
  "orig_nbformat": 4
 },
 "nbformat": 4,
 "nbformat_minor": 2
}
